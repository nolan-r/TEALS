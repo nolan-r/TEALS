{
 "cells": [
  {
   "cell_type": "markdown",
   "metadata": {},
   "source": [
    "# Project 3: Oregon Trail\n",
    "\n",
    "Using variables, functions, and conditionals in Python, students will create an Oregon Trail game. \n",
    "\n",
    "## Overview\n",
    "We will be recreating Oregon Trail! The goal is to travel from NYC to Oregon (2000 miles) by Dec 31st. However, the trail is arduous. Each day costs you food and health. You can hunt and rest, but you have to get there before winter! \n",
    "\n",
    "## Details \n",
    "### Behavior \n",
    "* Player starts in NYC on 03/01 with 2,000 miles to go, 500lbs of food, and 5 health. \n",
    "* The player must get to Oregon by 12/31\n",
    "* At the beginning of the game, user is asked their name.\n",
    "* Each turn, the player is asked what action they choose, where the player can type in the following: `travel`, `rest`, `hunt`, `status`, `help`, `quit`\n",
    "* The player's health randomly decreases 2 times during the month. \n",
    "* The player eats 5lbs of food a day.\n",
    "* `travel`: moves you randomly between 30-60 miles and takes 3-7 days (random).\n",
    "* `rest`: increases health 1 level (up to 5 maximum) and takes 2-5 days (random).\n",
    "* `hunt`: adds 100 lbs of food and takes 2-5 days (random).\n",
    "* `status`: lists food, health, distance traveled, and day.\n",
    "* `help`: lists all the commands.\n",
    "* `quit`: will end the game.\n",
    "\n",
    "### Implementation details \n",
    "* Create functions for all options a player can take\n",
    "* Use globals to keep track of player health, food pounds, miles to go, current day, current month\n",
    "* Create a function add_day which updates the day \n",
    "* Use global list to keep track of which months have 31 days and use this in the add_day function (i.e.: MONTHS_WITH_31_DAYS = [1, 3, 5, 7, 8, 10, 12])\n",
    "* Create a function select_action which uses a while loop to call add_day function\n",
    "\n",
    "## Grading \n",
    "### Scheme/Rubric\n",
    "| **Functional Correctness(Behavior)**                                |     |\n",
    "| --------------------------------------------------------------- |-----|\n",
    "| `travel`, `rest`, `hunt`                                        | 15  |\n",
    "| `status`, `help`, and `quit`                                    | 5  |\n",
    "| Game ends if food runs out, days run out, or health runs out    | 10  |\n",
    "| Days roll over correctly\t                                      | 10  | \n",
    "| Food decreases every day                                        | 5  | \n",
    "| Health decreases randomly\t                                      | 5   | \n",
    "| **Sub total**                                                   | 50  |\n",
    "| **Technical Correctness   **                                    |     |\n",
    "| Correctly use functions and contracts                           | 20  |\n",
    "| Correctly use imported random function                          | 5  |\n",
    "| Correctly use global variables                                  | 5  |\n",
    "| Correctly use and update variables                              | 5  |\n",
    "| Correctly add_days and select_action functions                  | 15  |\n",
    "| **Sub total**                                                   | 50  |\n",
    "| **Total**                                                       | 100 |\n",
    "\n",
    "\n",
    "## Extra Credit\n",
    "1.  Make the rate of food consumption be a function of activity. So if a player hunts for a turn they take up more food, but if they rest they take up less food. \n",
    "2. Create a random event that occurs randomly once a month, like a river crossing or a dysentery, that will take up a range of 1-10 food, 1-10 days and 0-1 health. \n"
   ]
  },
  {
   "cell_type": "code",
   "execution_count": null,
   "metadata": {},
   "outputs": [],
   "source": []
  }
 ],
 "metadata": {
  "kernelspec": {
   "display_name": "Python 3",
   "language": "python",
   "name": "python3"
  },
  "language_info": {
   "codemirror_mode": {
    "name": "ipython",
    "version": 3
   },
   "file_extension": ".py",
   "mimetype": "text/x-python",
   "name": "python",
   "nbconvert_exporter": "python",
   "pygments_lexer": "ipython3",
   "version": "3.6.5"
  }
 },
 "nbformat": 4,
 "nbformat_minor": 2
}
